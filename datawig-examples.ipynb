{
 "cells": [
  {
   "cell_type": "markdown",
   "id": "73f0c6a4",
   "metadata": {},
   "source": [
    "# DataWig Examples\n",
    "\n",
    "## Installation\n",
    "\n",
    "Clone the repository from git and set up virtualenv in the root dir of the package:\n",
    "\n",
    "```\n",
    "python3 -m venv venv\n",
    "```\n",
    "\n",
    "Install the package from local sources:\n",
    "\n",
    "```\n",
    "./venv/bin/pip install -e .\n",
    "```\n",
    "\n",
    "## Running DataWig\n",
    "The DataWig API expects your data as a [pandas DataFrame](https://pandas.pydata.org/pandas-docs/stable/generated/pandas.DataFrame.html). Here is an example of how the dataframe might look:\n",
    "\n",
    "|Product Type | Description           | Size | Color |\n",
    "|-------------|-----------------------|------|-------|\n",
    "|   Shoe      | Ideal for Running     | 12UK | Black |\n",
    "| SDCards     | Best SDCard ever ...  | 8GB  | Blue  |\n",
    "| Dress       | This **yellow** dress | M    | **?** |\n",
    "\n",
    "DataWig let's you impute missing values in two ways:\n",
    "  * A `.complete` functionality inspired by [`fancyimpute`](https://github.com/iskandr/fancyimpute)\n",
    "  * A `sklearn`-like API with `.fit` and `.predict` methods\n",
    "\n",
    "## Quickstart Example\n",
    "\n",
    "### Using `AutoGluonImputer.complete`\n"
   ]
  },
  {
   "cell_type": "code",
   "execution_count": 1,
   "id": "b94f6025",
   "metadata": {},
   "outputs": [],
   "source": [
    "# This allows to import datawig\n",
    "from pathlib import Path\n",
    "import sys,os\n",
    "path_root = Path(os.getcwd()).parents[2]\n",
    "sys.path.append(str(path_root))"
   ]
  },
  {
   "cell_type": "code",
   "execution_count": 2,
   "id": "c19d5d7a",
   "metadata": {},
   "outputs": [
    {
     "name": "stderr",
     "output_type": "stream",
     "text": [
      "\tWarning: Exception caused QuantileNeuralNet to fail during training (ImportError)... Skipping this model.\n",
      "\t\tNo module named 'mxnet'\n",
      "\tWarning: Exception caused QuantileNeuralNet to fail during training (ImportError)... Skipping this model.\n",
      "\t\tNo module named 'mxnet'\n"
     ]
    },
    {
     "data": {
      "text/html": [
       "<div>\n",
       "<style scoped>\n",
       "    .dataframe tbody tr th:only-of-type {\n",
       "        vertical-align: middle;\n",
       "    }\n",
       "\n",
       "    .dataframe tbody tr th {\n",
       "        vertical-align: top;\n",
       "    }\n",
       "\n",
       "    .dataframe thead th {\n",
       "        text-align: right;\n",
       "    }\n",
       "</style>\n",
       "<table border=\"1\" class=\"dataframe\">\n",
       "  <thead>\n",
       "    <tr style=\"text-align: right;\">\n",
       "      <th></th>\n",
       "      <th>x</th>\n",
       "      <th>f(x)</th>\n",
       "      <th>f(x) with_missing</th>\n",
       "      <th>f(x) imputed</th>\n",
       "    </tr>\n",
       "  </thead>\n",
       "  <tbody>\n",
       "    <tr>\n",
       "      <th>95</th>\n",
       "      <td>-0.038983</td>\n",
       "      <td>-0.006638</td>\n",
       "      <td>-0.006638</td>\n",
       "      <td>-0.006638</td>\n",
       "    </tr>\n",
       "    <tr>\n",
       "      <th>96</th>\n",
       "      <td>0.142835</td>\n",
       "      <td>0.019631</td>\n",
       "      <td>0.019631</td>\n",
       "      <td>0.019631</td>\n",
       "    </tr>\n",
       "    <tr>\n",
       "      <th>97</th>\n",
       "      <td>-0.455273</td>\n",
       "      <td>0.210685</td>\n",
       "      <td>0.210685</td>\n",
       "      <td>0.210685</td>\n",
       "    </tr>\n",
       "    <tr>\n",
       "      <th>98</th>\n",
       "      <td>-2.981880</td>\n",
       "      <td>8.894373</td>\n",
       "      <td>NaN</td>\n",
       "      <td>8.454887</td>\n",
       "    </tr>\n",
       "    <tr>\n",
       "      <th>99</th>\n",
       "      <td>-2.463691</td>\n",
       "      <td>6.078044</td>\n",
       "      <td>6.078044</td>\n",
       "      <td>6.078044</td>\n",
       "    </tr>\n",
       "  </tbody>\n",
       "</table>\n",
       "</div>"
      ],
      "text/plain": [
       "           x      f(x)  f(x) with_missing  f(x) imputed\n",
       "95 -0.038983 -0.006638          -0.006638     -0.006638\n",
       "96  0.142835  0.019631           0.019631      0.019631\n",
       "97 -0.455273  0.210685           0.210685      0.210685\n",
       "98 -2.981880  8.894373                NaN      8.454887\n",
       "99 -2.463691  6.078044           6.078044      6.078044"
      ]
     },
     "execution_count": 2,
     "metadata": {},
     "output_type": "execute_result"
    }
   ],
   "source": [
    "import os, random, warnings\n",
    "import numpy as np\n",
    "import datawig\n",
    "\n",
    "random.seed(0)\n",
    "warnings.filterwarnings(\"ignore\")\n",
    "\n",
    "# generate some data with simple nonlinear dependency\n",
    "df = datawig.utils.generate_df_numeric() \n",
    "# mask 10% of the values\n",
    "df_with_missing = df.mask(np.random.rand(*df.shape) > .8)\n",
    "\n",
    "# impute missing values\n",
    "df_with_missing_imputed = datawig.AutoGluonImputer.complete(df_with_missing)\n",
    "\n",
    "df['f(x) with_missing'] = df_with_missing['f(x)']\n",
    "df['f(x) imputed'] = df_with_missing_imputed['f(x)']\n",
    "df[-5:]"
   ]
  },
  {
   "cell_type": "markdown",
   "id": "f32ae30d",
   "metadata": {},
   "source": [
    "### Using `AutoGluonImputer.fit` and `.predict`\n",
    "\n",
    "You can also impute values in specific columns only (called `output_column` below) using values in other columns (called `input_columns` below). DataWig currently supports imputation of categorical columns and numeric columns. Type inference is based on ``pandas`` \n",
    "\n",
    "#### Imputation of categorical columns\n",
    "\n",
    "Let's first generate some random strings hidden in longer random strings:"
   ]
  },
  {
   "cell_type": "code",
   "execution_count": 3,
   "id": "0e14c522",
   "metadata": {},
   "outputs": [],
   "source": [
    "df['f(x) with_missing'] = df_with_missing['f(x)']\n",
    "df['f(x) imputed'] = df_with_missing_imputed['f(x)']"
   ]
  },
  {
   "cell_type": "code",
   "execution_count": 4,
   "id": "44b079a5",
   "metadata": {},
   "outputs": [
    {
     "data": {
      "text/html": [
       "<div>\n",
       "<style scoped>\n",
       "    .dataframe tbody tr th:only-of-type {\n",
       "        vertical-align: middle;\n",
       "    }\n",
       "\n",
       "    .dataframe tbody tr th {\n",
       "        vertical-align: top;\n",
       "    }\n",
       "\n",
       "    .dataframe thead th {\n",
       "        text-align: right;\n",
       "    }\n",
       "</style>\n",
       "<table border=\"1\" class=\"dataframe\">\n",
       "  <thead>\n",
       "    <tr style=\"text-align: right;\">\n",
       "      <th></th>\n",
       "      <th>sentences</th>\n",
       "      <th>label</th>\n",
       "    </tr>\n",
       "  </thead>\n",
       "  <tbody>\n",
       "    <tr>\n",
       "      <th>0</th>\n",
       "      <td>cMbm9 j7c1f RebhO BctvV m6Kop NQqEe</td>\n",
       "      <td>m6Kop</td>\n",
       "    </tr>\n",
       "    <tr>\n",
       "      <th>1</th>\n",
       "      <td>7zOfb O2NiT RwL85 Rz1TH G7Fgt m6Kop</td>\n",
       "      <td>m6Kop</td>\n",
       "    </tr>\n",
       "  </tbody>\n",
       "</table>\n",
       "</div>"
      ],
      "text/plain": [
       "                             sentences  label\n",
       "0  cMbm9 j7c1f RebhO BctvV m6Kop NQqEe  m6Kop\n",
       "1  7zOfb O2NiT RwL85 Rz1TH G7Fgt m6Kop  m6Kop"
      ]
     },
     "execution_count": 4,
     "metadata": {},
     "output_type": "execute_result"
    }
   ],
   "source": [
    "df = datawig.utils.generate_df_string( num_samples=200, \n",
    "                                       data_column_name='sentences', \n",
    "                                       label_column_name='label')\n",
    "df.head(n=2)"
   ]
  },
  {
   "cell_type": "code",
   "execution_count": 5,
   "id": "340a2ec1",
   "metadata": {},
   "outputs": [
    {
     "name": "stderr",
     "output_type": "stream",
     "text": [
      "\tWarning: Exception caused NeuralNetMXNet to fail during training (ImportError)... Skipping this model.\n",
      "\t\tUnable to import dependency mxnet. A quick tip is to install via `pip install mxnet --upgrade`, or `pip install mxnet_cu101 --upgrade`\n"
     ]
    },
    {
     "data": {
      "text/html": [
       "<div>\n",
       "<style scoped>\n",
       "    .dataframe tbody tr th:only-of-type {\n",
       "        vertical-align: middle;\n",
       "    }\n",
       "\n",
       "    .dataframe tbody tr th {\n",
       "        vertical-align: top;\n",
       "    }\n",
       "\n",
       "    .dataframe thead th {\n",
       "        text-align: right;\n",
       "    }\n",
       "</style>\n",
       "<table border=\"1\" class=\"dataframe\">\n",
       "  <thead>\n",
       "    <tr style=\"text-align: right;\">\n",
       "      <th></th>\n",
       "      <th>sentences</th>\n",
       "      <th>label</th>\n",
       "      <th>label_imputed</th>\n",
       "    </tr>\n",
       "  </thead>\n",
       "  <tbody>\n",
       "    <tr>\n",
       "      <th>57</th>\n",
       "      <td>PFTP5 IripW Wa0RH lm0lc Z9jZI DOBx3</td>\n",
       "      <td>Z9jZI</td>\n",
       "      <td>Z9jZI</td>\n",
       "    </tr>\n",
       "    <tr>\n",
       "      <th>31</th>\n",
       "      <td>O67IM lm0lc DdZ04 RwL85 n5RL0 Z9jZI</td>\n",
       "      <td>Z9jZI</td>\n",
       "      <td>Z9jZI</td>\n",
       "    </tr>\n",
       "    <tr>\n",
       "      <th>65</th>\n",
       "      <td>CH4F6 2V9SM Cffu4 Z9jZI zfx1h Rn9Xd</td>\n",
       "      <td>Z9jZI</td>\n",
       "      <td>Z9jZI</td>\n",
       "    </tr>\n",
       "    <tr>\n",
       "      <th>140</th>\n",
       "      <td>vvYxT lm0lc Z9jZI wy1Qq NQqEe OCyT4</td>\n",
       "      <td>Z9jZI</td>\n",
       "      <td>Z9jZI</td>\n",
       "    </tr>\n",
       "    <tr>\n",
       "      <th>89</th>\n",
       "      <td>ERA5K YkvB0 IlnyL Svkpo Z9jZI RwL85</td>\n",
       "      <td>Z9jZI</td>\n",
       "      <td>Z9jZI</td>\n",
       "    </tr>\n",
       "  </tbody>\n",
       "</table>\n",
       "</div>"
      ],
      "text/plain": [
       "                               sentences  label label_imputed\n",
       "57   PFTP5 IripW Wa0RH lm0lc Z9jZI DOBx3  Z9jZI         Z9jZI\n",
       "31   O67IM lm0lc DdZ04 RwL85 n5RL0 Z9jZI  Z9jZI         Z9jZI\n",
       "65   CH4F6 2V9SM Cffu4 Z9jZI zfx1h Rn9Xd  Z9jZI         Z9jZI\n",
       "140  vvYxT lm0lc Z9jZI wy1Qq NQqEe OCyT4  Z9jZI         Z9jZI\n",
       "89   ERA5K YkvB0 IlnyL Svkpo Z9jZI RwL85  Z9jZI         Z9jZI"
      ]
     },
     "execution_count": 5,
     "metadata": {},
     "output_type": "execute_result"
    }
   ],
   "source": [
    "df_train, df_test = datawig.utils.random_split(df)\n",
    "\n",
    "imputer = datawig.AutoGluonImputer(\n",
    "    input_columns=['sentences'], # column(s) containing information about the column we want to impute\n",
    "    output_column='label' # the column we'd like to impute values for\n",
    "    )\n",
    "\n",
    "#Fit an imputer model on the train data\n",
    "imputer.fit(train_df=df_train, time_limit=100)\n",
    "\n",
    "#Impute missing values and return original dataframe with predictions\n",
    "imputed = imputer.predict(df_test)\n",
    "imputed.head(n=5)"
   ]
  },
  {
   "cell_type": "markdown",
   "id": "7bc36df6",
   "metadata": {},
   "source": [
    "#### Imputation of numerical columns\n",
    "\n",
    "Imputation of numerical values works just like for categorical values.\n",
    "\n",
    "Let's first generate some numeric values with a quadratic dependency:\n"
   ]
  },
  {
   "cell_type": "code",
   "execution_count": 6,
   "id": "8eeb3ddb",
   "metadata": {},
   "outputs": [
    {
     "data": {
      "text/html": [
       "<div>\n",
       "<style scoped>\n",
       "    .dataframe tbody tr th:only-of-type {\n",
       "        vertical-align: middle;\n",
       "    }\n",
       "\n",
       "    .dataframe tbody tr th {\n",
       "        vertical-align: top;\n",
       "    }\n",
       "\n",
       "    .dataframe thead th {\n",
       "        text-align: right;\n",
       "    }\n",
       "</style>\n",
       "<table border=\"1\" class=\"dataframe\">\n",
       "  <thead>\n",
       "    <tr style=\"text-align: right;\">\n",
       "      <th></th>\n",
       "      <th>x</th>\n",
       "      <th>y</th>\n",
       "    </tr>\n",
       "  </thead>\n",
       "  <tbody>\n",
       "    <tr>\n",
       "      <th>0</th>\n",
       "      <td>1.895813</td>\n",
       "      <td>3.617395</td>\n",
       "    </tr>\n",
       "    <tr>\n",
       "      <th>1</th>\n",
       "      <td>-1.008764</td>\n",
       "      <td>1.024857</td>\n",
       "    </tr>\n",
       "    <tr>\n",
       "      <th>2</th>\n",
       "      <td>1.978105</td>\n",
       "      <td>3.919697</td>\n",
       "    </tr>\n",
       "    <tr>\n",
       "      <th>3</th>\n",
       "      <td>-2.638216</td>\n",
       "      <td>6.965940</td>\n",
       "    </tr>\n",
       "    <tr>\n",
       "      <th>4</th>\n",
       "      <td>2.480706</td>\n",
       "      <td>6.151376</td>\n",
       "    </tr>\n",
       "  </tbody>\n",
       "</table>\n",
       "</div>"
      ],
      "text/plain": [
       "          x         y\n",
       "0  1.895813  3.617395\n",
       "1 -1.008764  1.024857\n",
       "2  1.978105  3.919697\n",
       "3 -2.638216  6.965940\n",
       "4  2.480706  6.151376"
      ]
     },
     "execution_count": 6,
     "metadata": {},
     "output_type": "execute_result"
    }
   ],
   "source": [
    "import datawig\n",
    "\n",
    "df = datawig.utils.generate_df_numeric( num_samples=200, \n",
    "                                        data_column_name='x', \n",
    "                                        label_column_name='y')         \n",
    "df.head(n=5)"
   ]
  },
  {
   "cell_type": "code",
   "execution_count": 7,
   "id": "a0663c34",
   "metadata": {},
   "outputs": [
    {
     "name": "stderr",
     "output_type": "stream",
     "text": [
      "\tWarning: Exception caused QuantileNeuralNet to fail during training (ImportError)... Skipping this model.\n",
      "\t\tNo module named 'mxnet'\n"
     ]
    },
    {
     "data": {
      "text/html": [
       "<div>\n",
       "<style scoped>\n",
       "    .dataframe tbody tr th:only-of-type {\n",
       "        vertical-align: middle;\n",
       "    }\n",
       "\n",
       "    .dataframe tbody tr th {\n",
       "        vertical-align: top;\n",
       "    }\n",
       "\n",
       "    .dataframe thead th {\n",
       "        text-align: right;\n",
       "    }\n",
       "</style>\n",
       "<table border=\"1\" class=\"dataframe\">\n",
       "  <thead>\n",
       "    <tr style=\"text-align: right;\">\n",
       "      <th></th>\n",
       "      <th>x</th>\n",
       "      <th>y</th>\n",
       "      <th>y_imputed</th>\n",
       "    </tr>\n",
       "  </thead>\n",
       "  <tbody>\n",
       "    <tr>\n",
       "      <th>57</th>\n",
       "      <td>1.464692</td>\n",
       "      <td>2.149859</td>\n",
       "      <td>2.101123</td>\n",
       "    </tr>\n",
       "    <tr>\n",
       "      <th>31</th>\n",
       "      <td>-2.687957</td>\n",
       "      <td>7.225748</td>\n",
       "      <td>7.200390</td>\n",
       "    </tr>\n",
       "    <tr>\n",
       "      <th>65</th>\n",
       "      <td>2.226667</td>\n",
       "      <td>4.958026</td>\n",
       "      <td>5.079371</td>\n",
       "    </tr>\n",
       "    <tr>\n",
       "      <th>140</th>\n",
       "      <td>2.124441</td>\n",
       "      <td>4.502884</td>\n",
       "      <td>4.463196</td>\n",
       "    </tr>\n",
       "    <tr>\n",
       "      <th>89</th>\n",
       "      <td>-0.434246</td>\n",
       "      <td>0.176235</td>\n",
       "      <td>0.195624</td>\n",
       "    </tr>\n",
       "  </tbody>\n",
       "</table>\n",
       "</div>"
      ],
      "text/plain": [
       "            x         y  y_imputed\n",
       "57   1.464692  2.149859   2.101123\n",
       "31  -2.687957  7.225748   7.200390\n",
       "65   2.226667  4.958026   5.079371\n",
       "140  2.124441  4.502884   4.463196\n",
       "89  -0.434246  0.176235   0.195624"
      ]
     },
     "execution_count": 7,
     "metadata": {},
     "output_type": "execute_result"
    }
   ],
   "source": [
    "df_train, df_test = datawig.utils.random_split(df)\n",
    "\n",
    "imputer = datawig.AutoGluonImputer(\n",
    "    input_columns=['x'], # column(s) containing information about the column we want to impute\n",
    "    output_column='y', # the column we'd like to impute values for\n",
    "    )\n",
    "\n",
    "#Fit an imputer model on the train data\n",
    "imputer.fit(train_df=df_train, time_limit=100)\n",
    "\n",
    "#Impute missing values and return original dataframe with predictions\n",
    "imputed = imputer.predict(df_test)\n",
    "imputed.head(n=5)"
   ]
  },
  {
   "cell_type": "code",
   "execution_count": 8,
   "id": "b67617f9-db55-4cd3-9e23-6dcc5eb5c88c",
   "metadata": {},
   "outputs": [],
   "source": [
    "\n",
    "import pandas as pd\n",
    "from sklearn.metrics import classification_report\n",
    "\n",
    "from sklearn.datasets import (\n",
    "    load_diabetes,\n",
    "    load_wine,\n",
    "    make_hastie_10_2\n",
    ")\n",
    "\n",
    "def get_data(data_fn, noise=3e-1):\n",
    "    X, y = data_fn(n_samples=10000)\n",
    "    X = X + np.random.randn(*X.shape) * noise\n",
    "    return pd.DataFrame(np.vstack([X.T, y]).T, columns= [str(i) for i in range(X.shape[-1] + 1)])\n",
    "\n",
    "\n"
   ]
  },
  {
   "cell_type": "code",
   "execution_count": 9,
   "id": "0566e03f-3715-4a29-8791-93100deca2e0",
   "metadata": {
    "jupyter": {
     "source_hidden": true
    },
    "tags": []
   },
   "outputs": [],
   "source": [
    "\n",
    "X = get_data(make_hastie_10_2)\n",
    "label = X.columns[-1]\n",
    "X[label] = X[label].astype(str)\n",
    "features = X.columns[:-1]\n",
    "df_train, df_test = datawig.utils.random_split(X.copy())\n",
    "\n",
    "imputer = datawig.AutoGluonImputer(\n",
    "    input_columns=[x for x in X.columns if x != label], # column(s) containing information about the column we want to impute\n",
    "    output_column=label, # the column we'd like to impute values for\n",
    "    verbosity=2,\n",
    "    \n",
    ")\n"
   ]
  },
  {
   "cell_type": "code",
   "execution_count": 10,
   "id": "9c38576d-a6e6-43df-bf34-b2d00fc52ed5",
   "metadata": {},
   "outputs": [
    {
     "name": "stderr",
     "output_type": "stream",
     "text": [
      "Beginning AutoGluon training ... Time limit = 10s\n",
      "AutoGluon will save models to \"./agModels/AutoGluonImputer/\"\n",
      "AutoGluon Version:  0.3.1\n",
      "Train Data Rows:    7200\n",
      "Train Data Columns: 10\n",
      "Preprocessing data ...\n",
      "Selected class <--> label mapping:  class 1 = 1, class 0 = 0\n",
      "Train Data Class Count: 2\n",
      "Using Feature Generators to preprocess the data ...\n",
      "Fitting AutoMLPipelineFeatureGenerator...\n",
      "\tAvailable Memory:                    5870.25 MB\n",
      "\tTrain Data (Original)  Memory Usage: 0.58 MB (0.0% of available memory)\n",
      "\tInferring data type of each feature based on column values. Set feature_metadata_in to manually specify special dtypes of the features.\n",
      "\tStage 1 Generators:\n",
      "\t\tFitting AsTypeFeatureGenerator...\n",
      "\tStage 2 Generators:\n",
      "\t\tFitting FillNaFeatureGenerator...\n",
      "\tStage 3 Generators:\n",
      "\t\tFitting IdentityFeatureGenerator...\n",
      "\tStage 4 Generators:\n",
      "\t\tFitting DropUniqueFeatureGenerator...\n",
      "\tTypes of features in original data (raw dtype, special dtypes):\n",
      "\t\t('float', []) : 10 | ['0', '1', '2', '3', '4', ...]\n",
      "\tTypes of features in processed data (raw dtype, special dtypes):\n",
      "\t\t('float', []) : 10 | ['0', '1', '2', '3', '4', ...]\n",
      "\t0.1s = Fit runtime\n",
      "\t10 features in original data used to generate 10 features in processed data.\n",
      "\tTrain Data (Processed) Memory Usage: 0.58 MB (0.0% of available memory)\n",
      "Data preprocessing and feature engineering runtime = 0.1s ...\n",
      "AutoGluon will gauge predictive performance using evaluation metric: 'accuracy'\n",
      "\tTo change this, specify the eval_metric argument of fit()\n",
      "Automatically generating train/validation split with holdout_frac=0.1, Train Rows: 6480, Val Rows: 720\n",
      "Excluded Model Types: ['GBM', 'XGB']\n",
      "\tFound 'GBM' model in hyperparameters, but 'GBM' is present in `excluded_model_types` and will be removed.\n",
      "\tFound 'GBM' model in hyperparameters, but 'GBM' is present in `excluded_model_types` and will be removed.\n",
      "\tFound 'GBM' model in hyperparameters, but 'GBM' is present in `excluded_model_types` and will be removed.\n",
      "\tFound 'XGB' model in hyperparameters, but 'XGB' is present in `excluded_model_types` and will be removed.\n",
      "Fitting 9 L1 models ...\n",
      "Fitting model: KNeighborsUnif ... Training model for up to 9.9s of the 9.89s of remaining time.\n",
      "\t0.7083\t = Validation score   (accuracy)\n",
      "\t0.02s\t = Training   runtime\n",
      "\t0.05s\t = Validation runtime\n",
      "Fitting model: KNeighborsDist ... Training model for up to 9.82s of the 9.82s of remaining time.\n",
      "\t0.7083\t = Validation score   (accuracy)\n",
      "\t0.02s\t = Training   runtime\n",
      "\t0.05s\t = Validation runtime\n",
      "Fitting model: RandomForestGini ... Training model for up to 9.75s of the 9.75s of remaining time.\n",
      "\t0.8292\t = Validation score   (accuracy)\n",
      "\t1.61s\t = Training   runtime\n",
      "\t0.07s\t = Validation runtime\n",
      "Fitting model: RandomForestEntr ... Training model for up to 8.02s of the 8.02s of remaining time.\n",
      "\t0.8306\t = Validation score   (accuracy)\n",
      "\t2.04s\t = Training   runtime\n",
      "\t0.05s\t = Validation runtime\n",
      "Fitting model: CatBoost ... Training model for up to 5.86s of the 5.86s of remaining time.\n",
      "\t0.8653\t = Validation score   (accuracy)\n",
      "\t1.36s\t = Training   runtime\n",
      "\t0.0s\t = Validation runtime\n",
      "Fitting model: ExtraTreesGini ... Training model for up to 4.5s of the 4.49s of remaining time.\n",
      "\t0.8569\t = Validation score   (accuracy)\n",
      "\t0.71s\t = Training   runtime\n",
      "\t0.05s\t = Validation runtime\n",
      "Fitting model: ExtraTreesEntr ... Training model for up to 3.62s of the 3.62s of remaining time.\n",
      "\t0.85\t = Validation score   (accuracy)\n",
      "\t0.73s\t = Training   runtime\n",
      "\t0.05s\t = Validation runtime\n",
      "Fitting model: NeuralNetFastAI ... Training model for up to 2.71s of the 2.71s of remaining time.\n",
      "\tRan out of time, stopping training early. (Stopping on epoch 13)\n",
      "\t0.8694\t = Validation score   (accuracy)\n",
      "\t2.68s\t = Training   runtime\n",
      "\t0.02s\t = Validation runtime\n",
      "Fitting model: NeuralNetMXNet ... Training model for up to 0.01s of the 0.0s of remaining time.\n",
      "\tWarning: Exception caused NeuralNetMXNet to fail during training (ImportError)... Skipping this model.\n",
      "\t\tUnable to import dependency mxnet. A quick tip is to install via `pip install mxnet --upgrade`, or `pip install mxnet_cu101 --upgrade`\n",
      "Fitting model: WeightedEnsemble_L2 ... Training model for up to 9.9s of the -0.69s of remaining time.\n",
      "\t0.8764\t = Validation score   (accuracy)\n",
      "\t0.32s\t = Training   runtime\n",
      "\t0.0s\t = Validation runtime\n",
      "AutoGluon training complete, total runtime = 11.04s ...\n",
      "TabularPredictor saved. To load, use: predictor = TabularPredictor.load(\"./agModels/AutoGluonImputer/\")\n"
     ]
    },
    {
     "data": {
      "text/plain": [
       "<datawig.autogluon_imputer.AutoGluonImputer at 0x7f8a08c9b4c0>"
      ]
     },
     "execution_count": 10,
     "metadata": {},
     "output_type": "execute_result"
    }
   ],
   "source": [
    "#Fit an imputer model on the train data\n",
    "imputer.fit(train_df=df_train, time_limit=10)\n"
   ]
  },
  {
   "cell_type": "code",
   "execution_count": 18,
   "id": "30995068-83fc-49ba-a6cb-d45ad1cfab1b",
   "metadata": {},
   "outputs": [],
   "source": [
    "features = X.columns[:-1]\n",
    "precisions = []\n",
    "for precision_threshold in [0.1, 0.5, 0.9, 0.95, .99]:\n",
    "    imputed = imputer.predict(df_test[features], \n",
    "                          precision_threshold=precision_threshold, \n",
    "                          inplace=True)\n",
    "    report = classification_report(df_test[label],imputed[label+\"_imputed\"].fillna(\"\"), output_dict=True)\n",
    "    precisions.append({\n",
    "        'precision_threshold': precision_threshold,\n",
    "        'empirical_precision_on_test_set': np.mean([report['-1.0']['precision'],report['1.0']['precision']])\n",
    "    })"
   ]
  },
  {
   "cell_type": "code",
   "execution_count": 22,
   "id": "5bcea392",
   "metadata": {
    "scrolled": true
   },
   "outputs": [
    {
     "data": {
      "text/plain": [
       "<AxesSubplot:>"
      ]
     },
     "execution_count": 22,
     "metadata": {},
     "output_type": "execute_result"
    },
    {
     "data": {
      "image/png": "[encoded data removed]",
      "text/plain": [
       "<Figure size 432x288 with 1 Axes>"
      ]
     },
     "metadata": {
      "needs_background": "light"
     },
     "output_type": "display_data"
    }
   ],
   "source": [
    "pd.DataFrame(precisions).plot.bar()"
   ]
  },
  {
   "cell_type": "code",
   "execution_count": 26,
   "id": "7e0eb28e",
   "metadata": {},
   "outputs": [
    {
     "data": {
      "text/html": [
       "<div>\n",
       "<style scoped>\n",
       "    .dataframe tbody tr th:only-of-type {\n",
       "        vertical-align: middle;\n",
       "    }\n",
       "\n",
       "    .dataframe tbody tr th {\n",
       "        vertical-align: top;\n",
       "    }\n",
       "\n",
       "    .dataframe thead th {\n",
       "        text-align: right;\n",
       "    }\n",
       "</style>\n",
       "<table border=\"1\" class=\"dataframe\">\n",
       "  <thead>\n",
       "    <tr style=\"text-align: right;\">\n",
       "      <th></th>\n",
       "      <th>precision_threshold</th>\n",
       "      <th>empirical_precision_on_test_set</th>\n",
       "    </tr>\n",
       "  </thead>\n",
       "  <tbody>\n",
       "    <tr>\n",
       "      <th>0</th>\n",
       "      <td>0.10</td>\n",
       "      <td>0.861234</td>\n",
       "    </tr>\n",
       "    <tr>\n",
       "      <th>1</th>\n",
       "      <td>0.50</td>\n",
       "      <td>0.861234</td>\n",
       "    </tr>\n",
       "    <tr>\n",
       "      <th>2</th>\n",
       "      <td>0.90</td>\n",
       "      <td>0.917931</td>\n",
       "    </tr>\n",
       "    <tr>\n",
       "      <th>3</th>\n",
       "      <td>0.95</td>\n",
       "      <td>0.962769</td>\n",
       "    </tr>\n",
       "    <tr>\n",
       "      <th>4</th>\n",
       "      <td>0.99</td>\n",
       "      <td>0.988919</td>\n",
       "    </tr>\n",
       "  </tbody>\n",
       "</table>\n",
       "</div>"
      ],
      "text/plain": [
       "   precision_threshold  empirical_precision_on_test_set\n",
       "0                 0.10                         0.861234\n",
       "1                 0.50                         0.861234\n",
       "2                 0.90                         0.917931\n",
       "3                 0.95                         0.962769\n",
       "4                 0.99                         0.988919"
      ]
     },
     "execution_count": 26,
     "metadata": {},
     "output_type": "execute_result"
    }
   ],
   "source": [
    "df_precisions = pd.DataFrame(precisions)\n",
    "df_precisions"
   ]
  },
  {
   "cell_type": "code",
   "execution_count": 33,
   "id": "75d9fb02",
   "metadata": {},
   "outputs": [
    {
     "data": {
      "text/plain": [
       "True"
      ]
     },
     "execution_count": 33,
     "metadata": {},
     "output_type": "execute_result"
    }
   ],
   "source": [
    "df_precisions = pd.DataFrame(precisions)\n",
    "precision_deviations = df_precisions['empirical_precision_on_test_set'] \\\n",
    "                            - df_precisions['precision_threshold'] + 0.01 \n",
    "    \n",
    "all(precision_deviations > 0)"
   ]
  },
  {
   "cell_type": "code",
   "execution_count": 34,
   "id": "b3fcd389",
   "metadata": {},
   "outputs": [],
   "source": [
    "from pathlib import Path\n",
    "import sys,os\n",
    "path_root = Path(os.getcwd()).parents[2]"
   ]
  },
  {
   "cell_type": "code",
   "execution_count": 35,
   "id": "5979806e",
   "metadata": {},
   "outputs": [
    {
     "data": {
      "text/plain": [
       "Path('/Users')"
      ]
     },
     "execution_count": 35,
     "metadata": {},
     "output_type": "execute_result"
    }
   ],
   "source": [
    "path_root"
   ]
  },
  {
   "cell_type": "code",
   "execution_count": 36,
   "id": "4397b721",
   "metadata": {},
   "outputs": [
    {
     "data": {
      "text/plain": [
       "'/Users/felix/code/datawig'"
      ]
     },
     "execution_count": 36,
     "metadata": {},
     "output_type": "execute_result"
    }
   ],
   "source": [
    "os.getcwd()"
   ]
  },
  {
   "cell_type": "code",
   "execution_count": null,
   "id": "d6fe033f",
   "metadata": {},
   "outputs": [],
   "source": []
  }
 ],
 "metadata": {
  "kernelspec": {
   "display_name": "Python 3 (ipykernel)",
   "language": "python",
   "name": "python3"
  },
  "language_info": {
   "codemirror_mode": {
    "name": "ipython",
    "version": 3
   },
   "file_extension": ".py",
   "mimetype": "text/x-python",
   "name": "python",
   "nbconvert_exporter": "python",
   "pygments_lexer": "ipython3",
   "version": "3.8.12"
  }
 },
 "nbformat": 4,
 "nbformat_minor": 5
}
