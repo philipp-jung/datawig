{
 "cells": [
  {
   "cell_type": "markdown",
   "id": "73f0c6a4",
   "metadata": {},
   "source": [
    "# DataWig Examples\n",
    "\n",
    "## Installation\n",
    "\n",
    "Clone the repository from git and set up virtualenv in the root dir of the package:\n",
    "\n",
    "```\n",
    "python3 -m venv venv\n",
    "```\n",
    "\n",
    "Install the package from local sources:\n",
    "\n",
    "```\n",
    "./venv/bin/pip install -e .\n",
    "```\n",
    "\n",
    "## Running DataWig\n",
    "The DataWig API expects your data as a [pandas DataFrame](https://pandas.pydata.org/pandas-docs/stable/generated/pandas.DataFrame.html). Here is an example of how the dataframe might look:\n",
    "\n",
    "|Product Type | Description           | Size | Color |\n",
    "|-------------|-----------------------|------|-------|\n",
    "|   Shoe      | Ideal for Running     | 12UK | Black |\n",
    "| SDCards     | Best SDCard ever ...  | 8GB  | Blue  |\n",
    "| Dress       | This **yellow** dress | M    | **?** |\n",
    "\n",
    "DataWig let's you impute missing values in two ways:\n",
    "  * A `.complete` functionality inspired by [`fancyimpute`](https://github.com/iskandr/fancyimpute)\n",
    "  * A `sklearn`-like API with `.fit` and `.predict` methods\n",
    "\n",
    "## Quickstart Example\n",
    "\n",
    "### Using `AutoGluonImputer.complete`\n"
   ]
  },
  {
   "cell_type": "code",
   "execution_count": 9,
   "id": "b94f6025",
   "metadata": {},
   "outputs": [],
   "source": [
    "# This allows to import datawig\n",
    "from pathlib import Path\n",
    "import sys,os\n",
    "path_root = Path(os.getcwd()).parents[2]\n",
    "sys.path.append(str(path_root))"
   ]
  },
  {
   "cell_type": "code",
   "execution_count": 10,
   "id": "c19d5d7a",
   "metadata": {},
   "outputs": [
    {
     "ename": "TypeError",
     "evalue": "__init__() got an unexpected keyword argument 'precision_threshold'",
     "output_type": "error",
     "traceback": [
      "\u001b[0;31m---------------------------------------------------------------------------\u001b[0m",
      "\u001b[0;31mTypeError\u001b[0m                                 Traceback (most recent call last)",
      "\u001b[0;32m<ipython-input-10-db3508453130>\u001b[0m in \u001b[0;36m<module>\u001b[0;34m\u001b[0m\n\u001b[1;32m     12\u001b[0m \u001b[0;34m\u001b[0m\u001b[0m\n\u001b[1;32m     13\u001b[0m \u001b[0;31m# impute missing values\u001b[0m\u001b[0;34m\u001b[0m\u001b[0;34m\u001b[0m\u001b[0;34m\u001b[0m\u001b[0m\n\u001b[0;32m---> 14\u001b[0;31m \u001b[0mdf_with_missing_imputed\u001b[0m \u001b[0;34m=\u001b[0m \u001b[0mdatawig\u001b[0m\u001b[0;34m.\u001b[0m\u001b[0mAutoGluonImputer\u001b[0m\u001b[0;34m.\u001b[0m\u001b[0mcomplete\u001b[0m\u001b[0;34m(\u001b[0m\u001b[0mdf_with_missing\u001b[0m\u001b[0;34m)\u001b[0m\u001b[0;34m\u001b[0m\u001b[0;34m\u001b[0m\u001b[0m\n\u001b[0m\u001b[1;32m     15\u001b[0m \u001b[0;34m\u001b[0m\u001b[0m\n\u001b[1;32m     16\u001b[0m \u001b[0mdf\u001b[0m\u001b[0;34m[\u001b[0m\u001b[0;34m'f(x) with_missing'\u001b[0m\u001b[0;34m]\u001b[0m \u001b[0;34m=\u001b[0m \u001b[0mdf_with_missing\u001b[0m\u001b[0;34m[\u001b[0m\u001b[0;34m'f(x)'\u001b[0m\u001b[0;34m]\u001b[0m\u001b[0;34m\u001b[0m\u001b[0;34m\u001b[0m\u001b[0m\n",
      "\u001b[0;32m~/Desktop/MLFD/datawig/datawig/autogluon_imputer.py\u001b[0m in \u001b[0;36mcomplete\u001b[0;34m(data_frame, precision_threshold, numerical_confidence_quantile, model_name, inplace, time_limit, verbosity)\u001b[0m\n\u001b[1;32m    267\u001b[0m                                            \u001b[0mprecision_threshold\u001b[0m\u001b[0;34m=\u001b[0m\u001b[0mprecision_threshold\u001b[0m\u001b[0;34m,\u001b[0m\u001b[0;34m\u001b[0m\u001b[0;34m\u001b[0m\u001b[0m\n\u001b[1;32m    268\u001b[0m                                            \u001b[0mnumerical_confidence_quantile\u001b[0m\u001b[0;34m=\u001b[0m\u001b[0mnumerical_confidence_quantile\u001b[0m\u001b[0;34m,\u001b[0m\u001b[0;34m\u001b[0m\u001b[0;34m\u001b[0m\u001b[0m\n\u001b[0;32m--> 269\u001b[0;31m                                            verbosity=verbosity)\\\n\u001b[0m\u001b[1;32m    270\u001b[0m                     \u001b[0;34m.\u001b[0m\u001b[0mfit\u001b[0m\u001b[0;34m(\u001b[0m\u001b[0mdata_frame\u001b[0m\u001b[0;34m,\u001b[0m \u001b[0mtime_limit\u001b[0m\u001b[0;34m=\u001b[0m\u001b[0mtime_limit\u001b[0m\u001b[0;34m)\u001b[0m\u001b[0;34m\u001b[0m\u001b[0;34m\u001b[0m\u001b[0m\n\u001b[1;32m    271\u001b[0m                 \u001b[0mtmp\u001b[0m \u001b[0;34m=\u001b[0m \u001b[0mimputer\u001b[0m\u001b[0;34m.\u001b[0m\u001b[0mpredict\u001b[0m\u001b[0;34m(\u001b[0m\u001b[0mdata_frame\u001b[0m\u001b[0;34m)\u001b[0m\u001b[0;34m\u001b[0m\u001b[0;34m\u001b[0m\u001b[0m\n",
      "\u001b[0;31mTypeError\u001b[0m: __init__() got an unexpected keyword argument 'precision_threshold'"
     ]
    }
   ],
   "source": [
    "import os, random, warnings\n",
    "import numpy as np\n",
    "import datawig\n",
    "\n",
    "random.seed(0)\n",
    "warnings.filterwarnings(\"ignore\")\n",
    "\n",
    "# generate some data with simple nonlinear dependency\n",
    "df = datawig.utils.generate_df_numeric() \n",
    "# mask 10% of the values\n",
    "df_with_missing = df.mask(np.random.rand(*df.shape) > .8)\n",
    "\n",
    "# impute missing values\n",
    "df_with_missing_imputed = datawig.AutoGluonImputer.complete(df_with_missing)\n",
    "\n",
    "df['f(x) with_missing'] = df_with_missing['f(x)']\n",
    "df['f(x) imputed'] = df_with_missing_imputed['f(x)']\n",
    "df[-5:]"
   ]
  },
  {
   "cell_type": "markdown",
   "id": "f32ae30d",
   "metadata": {},
   "source": [
    "### Using `AutoGluonImputer.fit` and `.predict`\n",
    "\n",
    "You can also impute values in specific columns only (called `output_column` below) using values in other columns (called `input_columns` below). DataWig currently supports imputation of categorical columns and numeric columns. Type inference is based on ``pandas`` \n",
    "\n",
    "#### Imputation of categorical columns\n",
    "\n",
    "Let's first generate some random strings hidden in longer random strings:"
   ]
  },
  {
   "cell_type": "code",
   "execution_count": 11,
   "id": "44b079a5",
   "metadata": {},
   "outputs": [
    {
     "data": {
      "text/html": [
       "<div>\n",
       "<style scoped>\n",
       "    .dataframe tbody tr th:only-of-type {\n",
       "        vertical-align: middle;\n",
       "    }\n",
       "\n",
       "    .dataframe tbody tr th {\n",
       "        vertical-align: top;\n",
       "    }\n",
       "\n",
       "    .dataframe thead th {\n",
       "        text-align: right;\n",
       "    }\n",
       "</style>\n",
       "<table border=\"1\" class=\"dataframe\">\n",
       "  <thead>\n",
       "    <tr style=\"text-align: right;\">\n",
       "      <th></th>\n",
       "      <th>sentences</th>\n",
       "      <th>label</th>\n",
       "    </tr>\n",
       "  </thead>\n",
       "  <tbody>\n",
       "    <tr>\n",
       "      <th>0</th>\n",
       "      <td>vHqhM ZAmJ9 cq9GF h3qiP Of1Ui 56KkS</td>\n",
       "      <td>cq9GF</td>\n",
       "    </tr>\n",
       "    <tr>\n",
       "      <th>1</th>\n",
       "      <td>XQTck cq9GF UZd7R O2NiT 9ZMJL NQqEe</td>\n",
       "      <td>cq9GF</td>\n",
       "    </tr>\n",
       "  </tbody>\n",
       "</table>\n",
       "</div>"
      ],
      "text/plain": [
       "                             sentences  label\n",
       "0  vHqhM ZAmJ9 cq9GF h3qiP Of1Ui 56KkS  cq9GF\n",
       "1  XQTck cq9GF UZd7R O2NiT 9ZMJL NQqEe  cq9GF"
      ]
     },
     "execution_count": 11,
     "metadata": {},
     "output_type": "execute_result"
    }
   ],
   "source": [
    "df = datawig.utils.generate_df_string( num_samples=200, \n",
    "                                       data_column_name='sentences', \n",
    "                                       label_column_name='label')\n",
    "df.head(n=2)"
   ]
  },
  {
   "cell_type": "markdown",
   "id": "c9fd9724-7e63-4478-9288-6c766168a83f",
   "metadata": {},
   "source": [
    "... and now impute them:"
   ]
  },
  {
   "cell_type": "code",
   "execution_count": null,
   "id": "340a2ec1",
   "metadata": {},
   "outputs": [
    {
     "name": "stdout",
     "output_type": "stream",
     "text": [
      "> \u001b[0;32m/home/philipp/Desktop/MLFD/datawig/datawig/autogluon_imputer.py\u001b[0m(212)\u001b[0;36mpredict\u001b[0;34m()\u001b[0m\n",
      "\u001b[0;32m    210 \u001b[0;31m                \u001b[0mthreshold_for_minimal_precision\u001b[0m \u001b[0;34m=\u001b[0m \u001b[0mthresholds\u001b[0m\u001b[0;34m[\u001b[0m\u001b[0mmin\u001b[0m\u001b[0;34m(\u001b[0m\u001b[0mprecision_above\u001b[0m\u001b[0;34m,\u001b[0m \u001b[0mlen\u001b[0m\u001b[0;34m(\u001b[0m\u001b[0mthresholds\u001b[0m\u001b[0;34m)\u001b[0m\u001b[0;34m-\u001b[0m\u001b[0;36m1\u001b[0m\u001b[0;34m)\u001b[0m\u001b[0;34m]\u001b[0m\u001b[0;34m\u001b[0m\u001b[0;34m\u001b[0m\u001b[0m\n",
      "\u001b[0m\u001b[0;32m    211 \u001b[0;31m                \u001b[0mbreakpoint\u001b[0m\u001b[0;34m(\u001b[0m\u001b[0;34m)\u001b[0m\u001b[0;34m\u001b[0m\u001b[0;34m\u001b[0m\u001b[0m\n",
      "\u001b[0m\u001b[0;32m--> 212 \u001b[0;31m                \u001b[0;32mif\u001b[0m \u001b[0mprecision_threshold\u001b[0m \u001b[0;34m>\u001b[0m \u001b[0;36m0\u001b[0m\u001b[0;34m:\u001b[0m\u001b[0;34m\u001b[0m\u001b[0;34m\u001b[0m\u001b[0m\n",
      "\u001b[0m\u001b[0;32m    213 \u001b[0;31m                    \u001b[0mabove_precision\u001b[0m \u001b[0;34m=\u001b[0m \u001b[0mclass_mask\u001b[0m \u001b[0;34m&\u001b[0m\u001b[0;31m \u001b[0m\u001b[0;31m\\\u001b[0m\u001b[0;34m\u001b[0m\u001b[0;34m\u001b[0m\u001b[0m\n",
      "\u001b[0m\u001b[0;32m    214 \u001b[0;31m                        \u001b[0;34m(\u001b[0m\u001b[0mprobas\u001b[0m\u001b[0;34m[\u001b[0m\u001b[0mlabel\u001b[0m\u001b[0;34m]\u001b[0m \u001b[0;34m>=\u001b[0m \u001b[0mthreshold_for_minimal_precision\u001b[0m\u001b[0;34m)\u001b[0m\u001b[0;34m\u001b[0m\u001b[0;34m\u001b[0m\u001b[0m\n",
      "\u001b[0m\n"
     ]
    },
    {
     "name": "stdin",
     "output_type": "stream",
     "text": [
      "ipdb>  threshold_for_minimal_precision\n"
     ]
    },
    {
     "name": "stdout",
     "output_type": "stream",
     "text": [
      "0.996666669845581\n"
     ]
    },
    {
     "name": "stdin",
     "output_type": "stream",
     "text": [
      "ipdb>  precision_above\n"
     ]
    },
    {
     "name": "stdout",
     "output_type": "stream",
     "text": [
      "0\n"
     ]
    },
    {
     "name": "stdin",
     "output_type": "stream",
     "text": [
      "ipdb>  precisions\n"
     ]
    },
    {
     "name": "stdout",
     "output_type": "stream",
     "text": [
      "array([1., 1., 1.])\n"
     ]
    },
    {
     "name": "stdin",
     "output_type": "stream",
     "text": [
      "ipdb>  precision_threshold\n"
     ]
    },
    {
     "name": "stdout",
     "output_type": "stream",
     "text": [
      "0.0\n"
     ]
    },
    {
     "name": "stdin",
     "output_type": "stream",
     "text": [
      "ipdb>  precisions >= precision_threshold\n"
     ]
    },
    {
     "name": "stdout",
     "output_type": "stream",
     "text": [
      "array([ True,  True,  True])\n"
     ]
    },
    {
     "name": "stdin",
     "output_type": "stream",
     "text": [
      "ipdb>  (precisions >= precision_threshold).nonzero()\n"
     ]
    },
    {
     "name": "stdout",
     "output_type": "stream",
     "text": [
      "(array([0, 1, 2]),)\n"
     ]
    },
    {
     "name": "stdin",
     "output_type": "stream",
     "text": [
      "ipdb>  (precisions >= precision_threshold).nonzero()[0][0]\n"
     ]
    },
    {
     "name": "stdout",
     "output_type": "stream",
     "text": [
      "0\n"
     ]
    },
    {
     "name": "stdin",
     "output_type": "stream",
     "text": [
      "ipdb>  precision_above\n"
     ]
    },
    {
     "name": "stdout",
     "output_type": "stream",
     "text": [
      "0\n"
     ]
    },
    {
     "name": "stdin",
     "output_type": "stream",
     "text": [
      "ipdb>  len(thresholds)\n"
     ]
    },
    {
     "name": "stdout",
     "output_type": "stream",
     "text": [
      "2\n"
     ]
    },
    {
     "name": "stdin",
     "output_type": "stream",
     "text": [
      "ipdb>  len(thresholds)-1\n"
     ]
    },
    {
     "name": "stdout",
     "output_type": "stream",
     "text": [
      "1\n"
     ]
    },
    {
     "name": "stdin",
     "output_type": "stream",
     "text": [
      "ipdb>  min(precision_above, len(thresholds)-1)\n"
     ]
    },
    {
     "name": "stdout",
     "output_type": "stream",
     "text": [
      "0\n",
      "--KeyboardInterrupt--\n",
      "\n",
      "KeyboardInterrupt: Interrupted by user\n",
      "> \u001b[0;32m/home/philipp/Desktop/MLFD/datawig/datawig/autogluon_imputer.py\u001b[0m(211)\u001b[0;36mpredict\u001b[0;34m()\u001b[0m\n",
      "\u001b[0;32m    209 \u001b[0;31m\u001b[0;34m\u001b[0m\u001b[0m\n",
      "\u001b[0m\u001b[0;32m    210 \u001b[0;31m                \u001b[0;31m# get index of first fitted threshold that surpasses threshold\u001b[0m\u001b[0;34m\u001b[0m\u001b[0;34m\u001b[0m\u001b[0;34m\u001b[0m\u001b[0m\n",
      "\u001b[0m\u001b[0;32m--> 211 \u001b[0;31m                \u001b[0mprecision_above\u001b[0m \u001b[0;34m=\u001b[0m \u001b[0;34m(\u001b[0m\u001b[0mprecisions\u001b[0m \u001b[0;34m>=\u001b[0m \u001b[0mprecision_threshold\u001b[0m\u001b[0;34m)\u001b[0m\u001b[0;34m.\u001b[0m\u001b[0mnonzero\u001b[0m\u001b[0;34m(\u001b[0m\u001b[0;34m)\u001b[0m\u001b[0;34m[\u001b[0m\u001b[0;36m0\u001b[0m\u001b[0;34m]\u001b[0m\u001b[0;34m[\u001b[0m\u001b[0;36m0\u001b[0m\u001b[0;34m]\u001b[0m\u001b[0;34m\u001b[0m\u001b[0;34m\u001b[0m\u001b[0m\n",
      "\u001b[0m\u001b[0;32m    212 \u001b[0;31m                \u001b[0mthreshold_for_minimal_precision\u001b[0m \u001b[0;34m=\u001b[0m \u001b[0mthresholds\u001b[0m\u001b[0;34m[\u001b[0m\u001b[0mmin\u001b[0m\u001b[0;34m(\u001b[0m\u001b[0mprecision_above\u001b[0m\u001b[0;34m,\u001b[0m \u001b[0mlen\u001b[0m\u001b[0;34m(\u001b[0m\u001b[0mthresholds\u001b[0m\u001b[0;34m)\u001b[0m\u001b[0;34m-\u001b[0m\u001b[0;36m1\u001b[0m\u001b[0;34m)\u001b[0m\u001b[0;34m]\u001b[0m\u001b[0;34m\u001b[0m\u001b[0;34m\u001b[0m\u001b[0m\n",
      "\u001b[0m\u001b[0;32m    213 \u001b[0;31m                \u001b[0;32mif\u001b[0m \u001b[0mprecision_threshold\u001b[0m \u001b[0;34m>\u001b[0m \u001b[0;36m0\u001b[0m\u001b[0;34m:\u001b[0m\u001b[0;34m\u001b[0m\u001b[0;34m\u001b[0m\u001b[0m\n",
      "\u001b[0m\n"
     ]
    }
   ],
   "source": [
    "df_train, df_test = datawig.utils.random_split(df)\n",
    "\n",
    "imputer = datawig.AutoGluonImputer(\n",
    "    input_columns=['sentences'], # column(s) containing information about the column we want to impute\n",
    "    output_column='label' # the column we'd like to impute values for\n",
    "    )\n",
    "\n",
    "#Fit an imputer model on the train data\n",
    "imputer.fit(train_df=df_train, time_limit=100)\n",
    "\n",
    "#Impute missing values and return original dataframe with predictions\n",
    "imputed = imputer.predict(df_test)\n",
    "imputed.head(n=5)"
   ]
  },
  {
   "cell_type": "markdown",
   "id": "7bc36df6",
   "metadata": {},
   "source": [
    "#### Imputation of numerical columns\n",
    "\n",
    "Imputation of numerical values works just like for categorical values.\n",
    "\n",
    "Let's first generate some numeric values with a quadratic dependency:\n"
   ]
  },
  {
   "cell_type": "code",
   "execution_count": 4,
   "id": "8eeb3ddb",
   "metadata": {},
   "outputs": [
    {
     "data": {
      "text/html": [
       "<div>\n",
       "<style scoped>\n",
       "    .dataframe tbody tr th:only-of-type {\n",
       "        vertical-align: middle;\n",
       "    }\n",
       "\n",
       "    .dataframe tbody tr th {\n",
       "        vertical-align: top;\n",
       "    }\n",
       "\n",
       "    .dataframe thead th {\n",
       "        text-align: right;\n",
       "    }\n",
       "</style>\n",
       "<table border=\"1\" class=\"dataframe\">\n",
       "  <thead>\n",
       "    <tr style=\"text-align: right;\">\n",
       "      <th></th>\n",
       "      <th>x</th>\n",
       "      <th>y</th>\n",
       "    </tr>\n",
       "  </thead>\n",
       "  <tbody>\n",
       "    <tr>\n",
       "      <th>0</th>\n",
       "      <td>1.229925</td>\n",
       "      <td>1.505476</td>\n",
       "    </tr>\n",
       "    <tr>\n",
       "      <th>1</th>\n",
       "      <td>-0.285627</td>\n",
       "      <td>0.076257</td>\n",
       "    </tr>\n",
       "    <tr>\n",
       "      <th>2</th>\n",
       "      <td>0.801471</td>\n",
       "      <td>0.647639</td>\n",
       "    </tr>\n",
       "    <tr>\n",
       "      <th>3</th>\n",
       "      <td>0.529762</td>\n",
       "      <td>0.282723</td>\n",
       "    </tr>\n",
       "    <tr>\n",
       "      <th>4</th>\n",
       "      <td>2.520550</td>\n",
       "      <td>6.373606</td>\n",
       "    </tr>\n",
       "  </tbody>\n",
       "</table>\n",
       "</div>"
      ],
      "text/plain": [
       "          x         y\n",
       "0  1.229925  1.505476\n",
       "1 -0.285627  0.076257\n",
       "2  0.801471  0.647639\n",
       "3  0.529762  0.282723\n",
       "4  2.520550  6.373606"
      ]
     },
     "execution_count": 4,
     "metadata": {},
     "output_type": "execute_result"
    }
   ],
   "source": [
    "import datawig\n",
    "\n",
    "df = datawig.utils.generate_df_numeric( num_samples=200, \n",
    "                                        data_column_name='x', \n",
    "                                        label_column_name='y')         \n",
    "df.head(n=5)"
   ]
  },
  {
   "cell_type": "markdown",
   "id": "8ce9fb98-fcbe-407c-b536-d9493d4348c2",
   "metadata": {},
   "source": [
    "... and now impute those, too:"
   ]
  },
  {
   "cell_type": "code",
   "execution_count": 7,
   "id": "a0663c34",
   "metadata": {},
   "outputs": [
    {
     "name": "stderr",
     "output_type": "stream",
     "text": [
      "\tWarning: Exception caused QuantileNeuralNet to fail during training (ImportError)... Skipping this model.\n",
      "\t\tNo module named 'mxnet'\n"
     ]
    },
    {
     "data": {
      "text/html": [
       "<div>\n",
       "<style scoped>\n",
       "    .dataframe tbody tr th:only-of-type {\n",
       "        vertical-align: middle;\n",
       "    }\n",
       "\n",
       "    .dataframe tbody tr th {\n",
       "        vertical-align: top;\n",
       "    }\n",
       "\n",
       "    .dataframe thead th {\n",
       "        text-align: right;\n",
       "    }\n",
       "</style>\n",
       "<table border=\"1\" class=\"dataframe\">\n",
       "  <thead>\n",
       "    <tr style=\"text-align: right;\">\n",
       "      <th></th>\n",
       "      <th>x</th>\n",
       "      <th>y</th>\n",
       "      <th>y_imputed</th>\n",
       "    </tr>\n",
       "  </thead>\n",
       "  <tbody>\n",
       "    <tr>\n",
       "      <th>57</th>\n",
       "      <td>1.464692</td>\n",
       "      <td>2.149859</td>\n",
       "      <td>2.101123</td>\n",
       "    </tr>\n",
       "    <tr>\n",
       "      <th>31</th>\n",
       "      <td>-2.687957</td>\n",
       "      <td>7.225748</td>\n",
       "      <td>7.200390</td>\n",
       "    </tr>\n",
       "    <tr>\n",
       "      <th>65</th>\n",
       "      <td>2.226667</td>\n",
       "      <td>4.958026</td>\n",
       "      <td>5.079371</td>\n",
       "    </tr>\n",
       "    <tr>\n",
       "      <th>140</th>\n",
       "      <td>2.124441</td>\n",
       "      <td>4.502884</td>\n",
       "      <td>4.463196</td>\n",
       "    </tr>\n",
       "    <tr>\n",
       "      <th>89</th>\n",
       "      <td>-0.434246</td>\n",
       "      <td>0.176235</td>\n",
       "      <td>0.195624</td>\n",
       "    </tr>\n",
       "  </tbody>\n",
       "</table>\n",
       "</div>"
      ],
      "text/plain": [
       "            x         y  y_imputed\n",
       "57   1.464692  2.149859   2.101123\n",
       "31  -2.687957  7.225748   7.200390\n",
       "65   2.226667  4.958026   5.079371\n",
       "140  2.124441  4.502884   4.463196\n",
       "89  -0.434246  0.176235   0.195624"
      ]
     },
     "execution_count": 7,
     "metadata": {},
     "output_type": "execute_result"
    }
   ],
   "source": [
    "df_train, df_test = datawig.utils.random_split(df)\n",
    "\n",
    "imputer = datawig.AutoGluonImputer(\n",
    "    input_columns=['x'], # column(s) containing information about the column we want to impute\n",
    "    output_column='y', # the column we'd like to impute values for\n",
    "    )\n",
    "\n",
    "#Fit an imputer model on the train data\n",
    "imputer.fit(train_df=df_train, time_limit=100)\n",
    "\n",
    "#Impute missing values and return original dataframe with predictions\n",
    "imputed = imputer.predict(df_test)\n",
    "imputed.head(n=5)"
   ]
  },
  {
   "cell_type": "markdown",
   "id": "aa0483d2-2699-4a63-8863-695b4b3323d9",
   "metadata": {},
   "source": [
    "#### Comparison between empirical precision thresholds and the ones estimated by AutoGluonImputer"
   ]
  },
  {
   "cell_type": "code",
   "execution_count": 9,
   "id": "b67617f9-db55-4cd3-9e23-6dcc5eb5c88c",
   "metadata": {},
   "outputs": [],
   "source": [
    "import pandas as pd\n",
    "from sklearn.metrics import classification_report\n",
    "\n",
    "from sklearn.datasets import (\n",
    "    load_diabetes,\n",
    "    load_wine,\n",
    "    make_hastie_10_2\n",
    ")\n",
    "\n",
    "def get_data(data_fn, noise=3e-1):\n",
    "    X, y = data_fn(n_samples=10000)\n",
    "    X = X + np.random.randn(*X.shape) * noise\n",
    "    return pd.DataFrame(np.vstack([X.T, y]).T, columns= [str(i) for i in range(X.shape[-1] + 1)])"
   ]
  },
  {
   "cell_type": "code",
   "execution_count": 32,
   "id": "0566e03f-3715-4a29-8791-93100deca2e0",
   "metadata": {
    "tags": []
   },
   "outputs": [],
   "source": [
    "X = get_data(make_hastie_10_2)\n",
    "label = X.columns[-1]\n",
    "X[label] = X[label].astype(str)\n",
    "features = X.columns[:-1]\n",
    "df_train, df_test = datawig.utils.random_split(X.copy())\n",
    "\n",
    "imputer = datawig.AutoGluonImputer(\n",
    "    input_columns=[x for x in X.columns if x != label], # column(s) containing information about the column we want to impute\n",
    "    output_column=label, # the column we'd like to impute values for\n",
    "    verbosity=2,\n",
    "    \n",
    ")"
   ]
  },
  {
   "cell_type": "code",
   "execution_count": 33,
   "id": "9c38576d-a6e6-43df-bf34-b2d00fc52ed5",
   "metadata": {
    "collapsed": true,
    "jupyter": {
     "outputs_hidden": true
    },
    "tags": []
   },
   "outputs": [
    {
     "name": "stderr",
     "output_type": "stream",
     "text": [
      "Beginning AutoGluon training ... Time limit = 10s\n",
      "AutoGluon will save models to \"./agModels/AutoGluonImputer/\"\n",
      "AutoGluon Version:  0.2.0\n",
      "Train Data Rows:    7200\n",
      "Train Data Columns: 10\n",
      "Preprocessing data ...\n",
      "Selected class <--> label mapping:  class 1 = 1, class 0 = 0\n",
      "Train Data Class Count: 2\n",
      "Using Feature Generators to preprocess the data ...\n",
      "Fitting AutoMLPipelineFeatureGenerator...\n",
      "\tAvailable Memory:                    3472.48 MB\n",
      "\tTrain Data (Original)  Memory Usage: 0.58 MB (0.0% of available memory)\n",
      "\tInferring data type of each feature based on column values. Set feature_metadata_in to manually specify special dtypes of the features.\n",
      "\tStage 1 Generators:\n",
      "\t\tFitting AsTypeFeatureGenerator...\n",
      "\tStage 2 Generators:\n",
      "\t\tFitting FillNaFeatureGenerator...\n",
      "\tStage 3 Generators:\n",
      "\t\tFitting IdentityFeatureGenerator...\n",
      "\tStage 4 Generators:\n",
      "\t\tFitting DropUniqueFeatureGenerator...\n",
      "\tTypes of features in original data (raw dtype, special dtypes):\n",
      "\t\t('float', []) : 10 | ['0', '1', '2', '3', '4', ...]\n",
      "\tTypes of features in processed data (raw dtype, special dtypes):\n",
      "\t\t('float', []) : 10 | ['0', '1', '2', '3', '4', ...]\n",
      "\t0.1s = Fit runtime\n",
      "\t10 features in original data used to generate 10 features in processed data.\n",
      "\tTrain Data (Processed) Memory Usage: 0.58 MB (0.0% of available memory)\n",
      "Data preprocessing and feature engineering runtime = 0.24s ...\n",
      "AutoGluon will gauge predictive performance using evaluation metric: 'accuracy'\n",
      "\tTo change this, specify the eval_metric argument of fit()\n",
      "Automatically generating train/validation split with holdout_frac=0.1, Train Rows: 6480, Val Rows: 720\n",
      "Excluded Model Types: ['GBM', 'XGB']\n",
      "\tFound 'GBM' model in hyperparameters, but 'GBM' is present in `excluded_model_types` and will be removed.\n",
      "\tFound 'GBM' model in hyperparameters, but 'GBM' is present in `excluded_model_types` and will be removed.\n",
      "\tFound 'GBM' model in hyperparameters, but 'GBM' is present in `excluded_model_types` and will be removed.\n",
      "\tFound 'XGB' model in hyperparameters, but 'XGB' is present in `excluded_model_types` and will be removed.\n",
      "Fitting model: KNeighborsUnif ... Training model for up to 9.76s of the 9.74s of remaining time.\n",
      "\t0.6819\t = Validation accuracy score\n",
      "\t0.02s\t = Training runtime\n",
      "\t0.11s\t = Validation runtime\n",
      "Fitting model: KNeighborsDist ... Training model for up to 9.62s of the 9.6s of remaining time.\n",
      "\t0.6819\t = Validation accuracy score\n",
      "\t0.02s\t = Training runtime\n",
      "\t0.11s\t = Validation runtime\n",
      "Fitting model: RandomForestGini ... Training model for up to 9.48s of the 9.47s of remaining time.\n",
      "\t0.8347\t = Validation accuracy score\n",
      "\t3.26s\t = Training runtime\n",
      "\t0.21s\t = Validation runtime\n",
      "Fitting model: RandomForestEntr ... Training model for up to 5.85s of the 5.83s of remaining time.\n",
      "\t0.8292\t = Validation accuracy score\n",
      "\t4.48s\t = Training runtime\n",
      "\t0.42s\t = Validation runtime\n",
      "Fitting model: CatBoost ... Training model for up to 0.82s of the 0.8s of remaining time.\n",
      "\t0.8556\t = Validation accuracy score\n",
      "\t0.67s\t = Training runtime\n",
      "\t0.0s\t = Validation runtime\n",
      "Fitting model: ExtraTreesGini ... Training model for up to 0.14s of the 0.12s of remaining time.\n",
      "\t0.8361\t = Validation accuracy score\n",
      "\t1.06s\t = Training runtime\n",
      "\t0.1s\t = Validation runtime\n",
      "Fitting model: WeightedEnsemble_L2 ... Training model for up to 9.76s of the -2.37s of remaining time.\n",
      "\t0.8625\t = Validation accuracy score\n",
      "\t0.42s\t = Training runtime\n",
      "\t0.0s\t = Validation runtime\n",
      "AutoGluon training complete, total runtime = 12.85s ...\n",
      "TabularPredictor saved. To load, use: predictor = TabularPredictor.load(\"./agModels/AutoGluonImputer/\")\n"
     ]
    },
    {
     "data": {
      "text/plain": [
       "<datawig.autogluon_imputer.AutoGluonImputer at 0x7f743225ed90>"
      ]
     },
     "execution_count": 33,
     "metadata": {},
     "output_type": "execute_result"
    }
   ],
   "source": [
    "#Fit an imputer model on the train data\n",
    "imputer.fit(train_df=df_train, time_limit=10)"
   ]
  },
  {
   "cell_type": "code",
   "execution_count": 35,
   "id": "30995068-83fc-49ba-a6cb-d45ad1cfab1b",
   "metadata": {},
   "outputs": [],
   "source": [
    "features = X.columns[:-1]\n",
    "precisions = []\n",
    "for precision_threshold in [0.1, 0.5, 0.9, 0.95, .99]:\n",
    "    imputed = imputer.predict(df_test[features], \n",
    "                          precision_threshold=precision_threshold, \n",
    "                          inplace=True)\n",
    "    report = classification_report(df_test[label],imputed[label+\"_imputed\"].fillna(\"\"), output_dict=True)\n",
    "    rep = classification_report(df_test[label],imputed[label+\"_imputed\"].fillna(\"\"))\n",
    "    \n",
    "    precisions.append({\n",
    "        'precision_threshold': precision_threshold,\n",
    "        'empirical_precision_on_test_set': np.mean([report['-1.0']['precision'],report['1.0']['precision']])\n",
    "    })"
   ]
  },
  {
   "cell_type": "code",
   "execution_count": 17,
   "id": "5bcea392",
   "metadata": {
    "scrolled": true,
    "tags": []
   },
   "outputs": [
    {
     "data": {
      "text/plain": [
       "<AxesSubplot:>"
      ]
     },
     "execution_count": 17,
     "metadata": {},
     "output_type": "execute_result"
    },
    {
     "data": {
      "image/png": "[encoded data removed]",
      "text/plain": [
       "<Figure size 432x288 with 1 Axes>"
      ]
     },
     "metadata": {
      "needs_background": "light"
     },
     "output_type": "display_data"
    }
   ],
   "source": [
    "pd.DataFrame(precisions).plot.bar()"
   ]
  },
  {
   "cell_type": "code",
   "execution_count": 26,
   "id": "7e0eb28e",
   "metadata": {
    "collapsed": true,
    "jupyter": {
     "outputs_hidden": true
    },
    "tags": []
   },
   "outputs": [
    {
     "data": {
      "text/html": [
       "<div>\n",
       "<style scoped>\n",
       "    .dataframe tbody tr th:only-of-type {\n",
       "        vertical-align: middle;\n",
       "    }\n",
       "\n",
       "    .dataframe tbody tr th {\n",
       "        vertical-align: top;\n",
       "    }\n",
       "\n",
       "    .dataframe thead th {\n",
       "        text-align: right;\n",
       "    }\n",
       "</style>\n",
       "<table border=\"1\" class=\"dataframe\">\n",
       "  <thead>\n",
       "    <tr style=\"text-align: right;\">\n",
       "      <th></th>\n",
       "      <th>precision_threshold</th>\n",
       "      <th>empirical_precision_on_test_set</th>\n",
       "    </tr>\n",
       "  </thead>\n",
       "  <tbody>\n",
       "    <tr>\n",
       "      <th>0</th>\n",
       "      <td>0.10</td>\n",
       "      <td>0.861234</td>\n",
       "    </tr>\n",
       "    <tr>\n",
       "      <th>1</th>\n",
       "      <td>0.50</td>\n",
       "      <td>0.861234</td>\n",
       "    </tr>\n",
       "    <tr>\n",
       "      <th>2</th>\n",
       "      <td>0.90</td>\n",
       "      <td>0.917931</td>\n",
       "    </tr>\n",
       "    <tr>\n",
       "      <th>3</th>\n",
       "      <td>0.95</td>\n",
       "      <td>0.962769</td>\n",
       "    </tr>\n",
       "    <tr>\n",
       "      <th>4</th>\n",
       "      <td>0.99</td>\n",
       "      <td>0.988919</td>\n",
       "    </tr>\n",
       "  </tbody>\n",
       "</table>\n",
       "</div>"
      ],
      "text/plain": [
       "   precision_threshold  empirical_precision_on_test_set\n",
       "0                 0.10                         0.861234\n",
       "1                 0.50                         0.861234\n",
       "2                 0.90                         0.917931\n",
       "3                 0.95                         0.962769\n",
       "4                 0.99                         0.988919"
      ]
     },
     "execution_count": 26,
     "metadata": {},
     "output_type": "execute_result"
    }
   ],
   "source": [
    "df_precisions = pd.DataFrame(precisions)\n",
    "df_precisions"
   ]
  },
  {
   "cell_type": "code",
   "execution_count": 33,
   "id": "75d9fb02",
   "metadata": {},
   "outputs": [
    {
     "data": {
      "text/plain": [
       "True"
      ]
     },
     "execution_count": 33,
     "metadata": {},
     "output_type": "execute_result"
    }
   ],
   "source": [
    "df_precisions = pd.DataFrame(precisions)\n",
    "precision_deviations = df_precisions['empirical_precision_on_test_set'] \\\n",
    "                            - df_precisions['precision_threshold'] + 0.01 \n",
    "    \n",
    "all(precision_deviations > 0)"
   ]
  }
 ],
 "metadata": {
  "kernelspec": {
   "display_name": "Python 3",
   "language": "python",
   "name": "python3"
  },
  "language_info": {
   "codemirror_mode": {
    "name": "ipython",
    "version": 3
   },
   "file_extension": ".py",
   "mimetype": "text/x-python",
   "name": "python",
   "nbconvert_exporter": "python",
   "pygments_lexer": "ipython3",
   "version": "3.7.12"
  }
 },
 "nbformat": 4,
 "nbformat_minor": 5
}
